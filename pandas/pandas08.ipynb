{
  "cells": [
    {
      "cell_type": "markdown",
      "metadata": {
        "id": "view-in-github",
        "colab_type": "text"
      },
      "source": [
        "<a href=\"https://colab.research.google.com/github/k2moon/python/blob/main/pandas/pandas08.ipynb\" target=\"_parent\"><img src=\"https://colab.research.google.com/assets/colab-badge.svg\" alt=\"Open In Colab\"/></a>"
      ]
    },
    {
      "cell_type": "markdown",
      "metadata": {
        "school_cell_uuid": "7d54ee7f802c45cfb71ada449384a607",
        "id": "XdEs2BFhzgYF"
      },
      "source": [
        "# 4.8 시계열 자료 다루기"
      ]
    },
    {
      "cell_type": "markdown",
      "metadata": {
        "id": "5VVWFPr8zgYH"
      },
      "source": [
        "```{margin}\n",
        "`DatetimeIndex`\n",
        "```"
      ]
    },
    {
      "cell_type": "markdown",
      "metadata": {
        "id": "kFYz98pBzgYI"
      },
      "source": [
        "## `DatetimeIndex` 인덱스"
      ]
    },
    {
      "cell_type": "markdown",
      "metadata": {
        "school_cell_uuid": "c4ff6bd707744fd5bab97a0a48aa0e56",
        "id": "5TY9QubCzgYI"
      },
      "source": [
        "시계열 자료는 인덱스가 날짜 혹은 시간인 데이터를 말한다. 판다스에서 시계열 자료를 생성하려면 인덱스를 `DatetimeIndex` 자료형으로 만들어야 한다. `DatetimeIndex`는 특정한 순간에 기록된 타임스탬프(timestamp) 형식의 시계열 자료를 다루기 위한 인덱스이다. 타임스탬프 인덱스의 라벨값이 반드시 일정한 간격일 필요는 없다."
      ]
    },
    {
      "cell_type": "markdown",
      "metadata": {
        "school_cell_uuid": "ce5fee80fb074e519168a13a7c159f09",
        "id": "9G0so3xLzgYI"
      },
      "source": [
        "`DatetimeIndex` 인덱스는 다음과 같은 보조 함수를 사용하여 생성한다.\n",
        "\n",
        "* `pd.to_datetime` 함수\n",
        "* `pd.date_range` 함수"
      ]
    },
    {
      "cell_type": "markdown",
      "metadata": {
        "id": "G1XW5zhLzgYI"
      },
      "source": [
        "```{margin}\n",
        "to_datetime\n",
        "```"
      ]
    },
    {
      "cell_type": "markdown",
      "metadata": {
        "school_cell_uuid": "a4111d07ea994b7182d2010b1019281c",
        "id": "IIl-qwLEzgYI"
      },
      "source": [
        "`pd.to_datetime` 함수를 쓰면 날짜/시간을 나타내는 문자열을 자동으로 datetime 자료형으로 바꾼 후 `DatetimeIndex` 자료형 인덱스를 생성한다."
      ]
    },
    {
      "cell_type": "code",
      "source": [
        "import pandas as pd\n",
        "import numpy as np"
      ],
      "metadata": {
        "id": "9G8kgICcjUWu"
      },
      "execution_count": 1,
      "outputs": []
    },
    {
      "cell_type": "code",
      "execution_count": null,
      "metadata": {
        "school_cell_uuid": "37627593f6d94bbca2c637eb1df845f1",
        "id": "j7s4DLB7zgYJ",
        "outputId": "9115273c-6edf-4b58-ea65-5cfc19e96cbc"
      },
      "outputs": [
        {
          "data": {
            "text/plain": [
              "DatetimeIndex(['2018-01-01', '2018-01-04', '2018-01-05', '2018-01-06'], dtype='datetime64[ns]', freq=None)"
            ]
          },
          "execution_count": 1,
          "metadata": {},
          "output_type": "execute_result"
        }
      ],
      "source": [
        "date_str = [\"2018/1/1\", \"2018-1-4\", \"2018, 1, 5\", \"2018, 1, 6\"]\n",
        "idx = pd.to_datetime(date_str)\n",
        "idx"
      ]
    },
    {
      "cell_type": "markdown",
      "metadata": {
        "school_cell_uuid": "05d388a37b0343cab334b7dbf7fa9d95",
        "id": "-qn9P-FLzgYK"
      },
      "source": [
        "이렇게 만들어진 인덱스를 사용하여 시리즈나 데이터프레임을 생성하면 된다."
      ]
    },
    {
      "cell_type": "code",
      "execution_count": null,
      "metadata": {
        "school_cell_uuid": "71e4a6adeafa4c199115489911fa9e98",
        "id": "yyyAGqjJzgYK",
        "outputId": "0f08f331-73b9-464f-a893-4e30c7f08143"
      },
      "outputs": [
        {
          "data": {
            "text/plain": [
              "2018-01-01    1.764052\n",
              "2018-01-04    0.400157\n",
              "2018-01-05    0.978738\n",
              "2018-01-06    2.240893\n",
              "dtype: float64"
            ]
          },
          "execution_count": 2,
          "metadata": {},
          "output_type": "execute_result"
        }
      ],
      "source": [
        "np.random.seed(0)\n",
        "s = pd.Series(np.random.randn(4), index=idx)\n",
        "s"
      ]
    },
    {
      "cell_type": "markdown",
      "metadata": {
        "id": "zMoDOPoJzgYK"
      },
      "source": [
        "```{margin}\n",
        "date_range\n",
        "```"
      ]
    },
    {
      "cell_type": "markdown",
      "metadata": {
        "school_cell_uuid": "fd052091c90d4e31be6feca8cceaa90c",
        "id": "UJOnnnkazgYL"
      },
      "source": [
        "`pd.date_range` 함수를 쓰면 모든 날짜/시간을 일일히 입력할 필요없이 시작일과 종료일 또는 시작일과 기간을 입력하면 범위 내의 인덱스를 생성해 준다."
      ]
    },
    {
      "cell_type": "code",
      "execution_count": null,
      "metadata": {
        "school_cell_uuid": "f9597a1a250140da93f1c16a006dc132",
        "id": "IModfC7CzgYL",
        "outputId": "1c70246a-66ca-4c5f-db32-59b274e28193"
      },
      "outputs": [
        {
          "data": {
            "text/plain": [
              "DatetimeIndex(['2018-04-01', '2018-04-02', '2018-04-03', '2018-04-04',\n",
              "               '2018-04-05', '2018-04-06', '2018-04-07', '2018-04-08',\n",
              "               '2018-04-09', '2018-04-10', '2018-04-11', '2018-04-12',\n",
              "               '2018-04-13', '2018-04-14', '2018-04-15', '2018-04-16',\n",
              "               '2018-04-17', '2018-04-18', '2018-04-19', '2018-04-20',\n",
              "               '2018-04-21', '2018-04-22', '2018-04-23', '2018-04-24',\n",
              "               '2018-04-25', '2018-04-26', '2018-04-27', '2018-04-28',\n",
              "               '2018-04-29', '2018-04-30'],\n",
              "              dtype='datetime64[ns]', freq='D')"
            ]
          },
          "execution_count": 3,
          "metadata": {},
          "output_type": "execute_result"
        }
      ],
      "source": [
        "pd.date_range(\"2018-4-1\", \"2018-4-30\")"
      ]
    },
    {
      "cell_type": "code",
      "execution_count": null,
      "metadata": {
        "school_cell_uuid": "476cee21be454c8b9503c06de4a4adf3",
        "id": "L4LO9-6TzgYL",
        "outputId": "0abc4903-bc89-42c1-9e6a-002404014ef5"
      },
      "outputs": [
        {
          "data": {
            "text/plain": [
              "DatetimeIndex(['2018-04-01', '2018-04-02', '2018-04-03', '2018-04-04',\n",
              "               '2018-04-05', '2018-04-06', '2018-04-07', '2018-04-08',\n",
              "               '2018-04-09', '2018-04-10', '2018-04-11', '2018-04-12',\n",
              "               '2018-04-13', '2018-04-14', '2018-04-15', '2018-04-16',\n",
              "               '2018-04-17', '2018-04-18', '2018-04-19', '2018-04-20',\n",
              "               '2018-04-21', '2018-04-22', '2018-04-23', '2018-04-24',\n",
              "               '2018-04-25', '2018-04-26', '2018-04-27', '2018-04-28',\n",
              "               '2018-04-29', '2018-04-30'],\n",
              "              dtype='datetime64[ns]', freq='D')"
            ]
          },
          "execution_count": 4,
          "metadata": {},
          "output_type": "execute_result"
        }
      ],
      "source": [
        "pd.date_range(start=\"2018-4-1\", periods=30)"
      ]
    },
    {
      "cell_type": "markdown",
      "metadata": {
        "school_cell_uuid": "3bad3aff349649b083b4867843705dd0",
        "id": "YWDKPix_zgYM"
      },
      "source": [
        "`freq` 인수로 특정한 날짜만 생성되도록 할 수도 있다. 많이 사용되는 `freq` 인수값은 다음과 같다.\n",
        "\n",
        "* `s`: 초\n",
        "* `T`: 분\n",
        "* `H`: 시간\n",
        "* `D`: 일(day)\n",
        "* `B`: 주말이 아닌 평일\n",
        "* `W`: 주(일요일)\n",
        "* `W-MON`: 주(월요일)\n",
        "* `M`: 각 달(month)의 마지막 날\n",
        "* `MS`: 각 달의 첫날\n",
        "* `BM`: 주말이 아닌 평일 중에서 각 달의 마지막 날\n",
        "* `BMS`: 주말이 아닌 평일 중에서 각 달의 첫날\n",
        "* `WOM-2THU`: 각 달의 두번째 목요일\n",
        "* `Q-JAN`: 각 분기의 첫달의 마지막 날\n",
        "* `Q-DEC`: 각 분기의 마지막 달의 마지막 날\n",
        "\n",
        "보다 자세한 내용은 다음 웹사이트를 참조한다.\n",
        "\n",
        "* [https://pandas.pydata.org/pandas-docs/stable/user_guide/timeseries.html#dateoffset-objects](https://pandas.pydata.org/pandas-docs/stable/user_guide/timeseries.html#dateoffset-objects)"
      ]
    },
    {
      "cell_type": "code",
      "execution_count": null,
      "metadata": {
        "school_cell_uuid": "6608d599e5924ed5a87525d8eca61478",
        "id": "Sp4-mUX_zgYM",
        "outputId": "b69adc41-cfa0-4479-fd07-65a92ee72554"
      },
      "outputs": [
        {
          "data": {
            "text/plain": [
              "DatetimeIndex(['2018-04-02', '2018-04-03', '2018-04-04', '2018-04-05',\n",
              "               '2018-04-06', '2018-04-09', '2018-04-10', '2018-04-11',\n",
              "               '2018-04-12', '2018-04-13', '2018-04-16', '2018-04-17',\n",
              "               '2018-04-18', '2018-04-19', '2018-04-20', '2018-04-23',\n",
              "               '2018-04-24', '2018-04-25', '2018-04-26', '2018-04-27',\n",
              "               '2018-04-30'],\n",
              "              dtype='datetime64[ns]', freq='B')"
            ]
          },
          "execution_count": 5,
          "metadata": {},
          "output_type": "execute_result"
        }
      ],
      "source": [
        "pd.date_range(\"2018-4-1\", \"2018-4-30\", freq=\"B\")"
      ]
    },
    {
      "cell_type": "code",
      "execution_count": null,
      "metadata": {
        "school_cell_uuid": "6cd6c97dc5054162abf7e9f9a3a3093e",
        "id": "mlLxw6DqzgYM",
        "outputId": "b08a3461-6949-49b7-e4eb-aa98cdbaea3f"
      },
      "outputs": [
        {
          "data": {
            "text/plain": [
              "DatetimeIndex(['2018-01-07', '2018-01-14', '2018-01-21', '2018-01-28',\n",
              "               '2018-02-04', '2018-02-11', '2018-02-18', '2018-02-25',\n",
              "               '2018-03-04', '2018-03-11', '2018-03-18', '2018-03-25',\n",
              "               '2018-04-01', '2018-04-08', '2018-04-15', '2018-04-22',\n",
              "               '2018-04-29', '2018-05-06', '2018-05-13', '2018-05-20',\n",
              "               '2018-05-27', '2018-06-03', '2018-06-10', '2018-06-17',\n",
              "               '2018-06-24', '2018-07-01', '2018-07-08', '2018-07-15',\n",
              "               '2018-07-22', '2018-07-29', '2018-08-05', '2018-08-12',\n",
              "               '2018-08-19', '2018-08-26', '2018-09-02', '2018-09-09',\n",
              "               '2018-09-16', '2018-09-23', '2018-09-30', '2018-10-07',\n",
              "               '2018-10-14', '2018-10-21', '2018-10-28', '2018-11-04',\n",
              "               '2018-11-11', '2018-11-18', '2018-11-25', '2018-12-02',\n",
              "               '2018-12-09', '2018-12-16', '2018-12-23', '2018-12-30'],\n",
              "              dtype='datetime64[ns]', freq='W-SUN')"
            ]
          },
          "execution_count": 6,
          "metadata": {},
          "output_type": "execute_result"
        }
      ],
      "source": [
        "pd.date_range(\"2018-1-1\", \"2018-12-31\", freq=\"W\")"
      ]
    },
    {
      "cell_type": "code",
      "execution_count": null,
      "metadata": {
        "school_cell_uuid": "6cd6c97dc5054162abf7e9f9a3a3093e",
        "id": "LSqh4UrnzgYN",
        "outputId": "e0baa3ec-fd0d-49d2-bf31-04dfc1871674"
      },
      "outputs": [
        {
          "data": {
            "text/plain": [
              "DatetimeIndex(['2018-01-01', '2018-01-08', '2018-01-15', '2018-01-22',\n",
              "               '2018-01-29', '2018-02-05', '2018-02-12', '2018-02-19',\n",
              "               '2018-02-26', '2018-03-05', '2018-03-12', '2018-03-19',\n",
              "               '2018-03-26', '2018-04-02', '2018-04-09', '2018-04-16',\n",
              "               '2018-04-23', '2018-04-30', '2018-05-07', '2018-05-14',\n",
              "               '2018-05-21', '2018-05-28', '2018-06-04', '2018-06-11',\n",
              "               '2018-06-18', '2018-06-25', '2018-07-02', '2018-07-09',\n",
              "               '2018-07-16', '2018-07-23', '2018-07-30', '2018-08-06',\n",
              "               '2018-08-13', '2018-08-20', '2018-08-27', '2018-09-03',\n",
              "               '2018-09-10', '2018-09-17', '2018-09-24', '2018-10-01',\n",
              "               '2018-10-08', '2018-10-15', '2018-10-22', '2018-10-29',\n",
              "               '2018-11-05', '2018-11-12', '2018-11-19', '2018-11-26',\n",
              "               '2018-12-03', '2018-12-10', '2018-12-17', '2018-12-24',\n",
              "               '2018-12-31'],\n",
              "              dtype='datetime64[ns]', freq='W-MON')"
            ]
          },
          "execution_count": 7,
          "metadata": {},
          "output_type": "execute_result"
        }
      ],
      "source": [
        "pd.date_range(\"2018-1-1\", \"2018-12-31\", freq=\"W-MON\")"
      ]
    },
    {
      "cell_type": "code",
      "execution_count": null,
      "metadata": {
        "school_cell_uuid": "303d33432bd64ad58b63fc397dd271f5",
        "id": "6bwX1_wdzgYN",
        "outputId": "528ca417-3c98-4ec7-8d8a-3e7fe0a8291c"
      },
      "outputs": [
        {
          "data": {
            "text/plain": [
              "DatetimeIndex(['2018-04-01', '2018-05-01', '2018-06-01', '2018-07-01',\n",
              "               '2018-08-01', '2018-09-01', '2018-10-01', '2018-11-01',\n",
              "               '2018-12-01'],\n",
              "              dtype='datetime64[ns]', freq='MS')"
            ]
          },
          "execution_count": 8,
          "metadata": {},
          "output_type": "execute_result"
        }
      ],
      "source": [
        "pd.date_range(\"2018-4-1\", \"2018-12-31\", freq=\"MS\")"
      ]
    },
    {
      "cell_type": "code",
      "execution_count": null,
      "metadata": {
        "school_cell_uuid": "9e558fec73084d179fa1d643395d2a85",
        "id": "3j7wW94JzgYN",
        "outputId": "fbb02cea-e6f2-487d-8e37-b277798d71d8"
      },
      "outputs": [
        {
          "data": {
            "text/plain": [
              "DatetimeIndex(['2018-04-30', '2018-05-31', '2018-06-30', '2018-07-31',\n",
              "               '2018-08-31', '2018-09-30', '2018-10-31', '2018-11-30',\n",
              "               '2018-12-31'],\n",
              "              dtype='datetime64[ns]', freq='M')"
            ]
          },
          "execution_count": 9,
          "metadata": {},
          "output_type": "execute_result"
        }
      ],
      "source": [
        "pd.date_range(\"2018-4-1\", \"2018-12-31\", freq=\"M\")"
      ]
    },
    {
      "cell_type": "code",
      "execution_count": null,
      "metadata": {
        "school_cell_uuid": "c4952b28e6b34afda26867c79a8a0aa6",
        "id": "H5VaBjH3zgYO",
        "outputId": "e9b98e53-151a-4d90-a370-63091a655c8b"
      },
      "outputs": [
        {
          "data": {
            "text/plain": [
              "DatetimeIndex(['2018-04-02', '2018-05-01', '2018-06-01', '2018-07-02',\n",
              "               '2018-08-01', '2018-09-03', '2018-10-01', '2018-11-01',\n",
              "               '2018-12-03'],\n",
              "              dtype='datetime64[ns]', freq='BMS')"
            ]
          },
          "execution_count": 10,
          "metadata": {},
          "output_type": "execute_result"
        }
      ],
      "source": [
        "pd.date_range(\"2018-4-1\", \"2018-12-31\", freq=\"BMS\")"
      ]
    },
    {
      "cell_type": "code",
      "execution_count": null,
      "metadata": {
        "school_cell_uuid": "6b151f915de047bca5a6488a512d7d1c",
        "id": "0BpMM4ptzgYO",
        "outputId": "8974f094-ae77-4b85-92fa-3e04384b5854"
      },
      "outputs": [
        {
          "data": {
            "text/plain": [
              "DatetimeIndex(['2018-04-30', '2018-05-31', '2018-06-29', '2018-07-31',\n",
              "               '2018-08-31', '2018-09-28', '2018-10-31', '2018-11-30',\n",
              "               '2018-12-31'],\n",
              "              dtype='datetime64[ns]', freq='BM')"
            ]
          },
          "execution_count": 11,
          "metadata": {},
          "output_type": "execute_result"
        }
      ],
      "source": [
        "pd.date_range(\"2018-4-1\", \"2018-12-31\", freq=\"BM\")"
      ]
    },
    {
      "cell_type": "code",
      "execution_count": null,
      "metadata": {
        "school_cell_uuid": "af918cf8514a47cfbfdda1663c544cec",
        "id": "rM227fiIzgYO",
        "outputId": "1881495a-3ac3-41d0-90e9-bfa39bfe04bb"
      },
      "outputs": [
        {
          "data": {
            "text/plain": [
              "DatetimeIndex(['2018-01-11', '2018-02-08', '2018-03-08', '2018-04-12',\n",
              "               '2018-05-10', '2018-06-14', '2018-07-12', '2018-08-09',\n",
              "               '2018-09-13', '2018-10-11', '2018-11-08', '2018-12-13'],\n",
              "              dtype='datetime64[ns]', freq='WOM-2THU')"
            ]
          },
          "execution_count": 12,
          "metadata": {},
          "output_type": "execute_result"
        }
      ],
      "source": [
        "pd.date_range(\"2018-1-1\", \"2018-12-31\", freq=\"WOM-2THU\")"
      ]
    },
    {
      "cell_type": "code",
      "execution_count": null,
      "metadata": {
        "school_cell_uuid": "c726f07103874171bedce2e22533f7a9",
        "id": "-dBB-Hv5zgYO",
        "outputId": "07f5a109-838b-4ad9-e23d-55e11f8b45c0"
      },
      "outputs": [
        {
          "data": {
            "text/plain": [
              "DatetimeIndex(['2018-01-31', '2018-04-30', '2018-07-31', '2018-10-31'], dtype='datetime64[ns]', freq='Q-JAN')"
            ]
          },
          "execution_count": 13,
          "metadata": {},
          "output_type": "execute_result"
        }
      ],
      "source": [
        "pd.date_range(\"2018-1-1\", \"2018-12-31\", freq=\"Q-JAN\")"
      ]
    },
    {
      "cell_type": "code",
      "execution_count": null,
      "metadata": {
        "school_cell_uuid": "c726f07103874171bedce2e22533f7a9",
        "id": "wvPWjSUbzgYO",
        "outputId": "2926df07-059a-4c26-e985-27c492e3f379"
      },
      "outputs": [
        {
          "data": {
            "text/plain": [
              "DatetimeIndex(['2018-03-31', '2018-06-30', '2018-09-30', '2018-12-31'], dtype='datetime64[ns]', freq='Q-DEC')"
            ]
          },
          "execution_count": 14,
          "metadata": {},
          "output_type": "execute_result"
        }
      ],
      "source": [
        "pd.date_range(\"2018-1-1\", \"2018-12-31\", freq=\"Q-DEC\")"
      ]
    },
    {
      "cell_type": "markdown",
      "metadata": {
        "school_cell_uuid": "6c52ae3d5ccb4f9ea14aa8673c287d85",
        "id": "D7CQOuPuzgYP"
      },
      "source": [
        "## `shift` 연산"
      ]
    },
    {
      "cell_type": "markdown",
      "metadata": {
        "school_cell_uuid": "ed3a5e938ba64f5484ea726069fa8e97",
        "id": "QwZ38vEnzgYP"
      },
      "source": [
        "시계열 데이터의 인덱스는 시간이나 날짜를 나타내기 때문에 날짜 이동 등의 다양한 연산이 가능하다. 예를 들어 `shift` 연산을 사용하면 인덱스는 그대로 두고 데이터만 이동할 수도 있다."
      ]
    },
    {
      "cell_type": "code",
      "execution_count": null,
      "metadata": {
        "school_cell_uuid": "7c4b915c88ee4be28a67786ceb1ff69e",
        "id": "8W3e8i3_zgYP",
        "outputId": "17a10f3c-5397-4186-b2cd-7b006d8e307d"
      },
      "outputs": [
        {
          "data": {
            "text/plain": [
              "2018-01-31    1.764052\n",
              "2018-02-28    0.400157\n",
              "2018-03-31    0.978738\n",
              "2018-04-30    2.240893\n",
              "Freq: M, dtype: float64"
            ]
          },
          "execution_count": 15,
          "metadata": {},
          "output_type": "execute_result"
        }
      ],
      "source": [
        "np.random.seed(0)\n",
        "ts = pd.Series(np.random.randn(4), index=pd.date_range(\n",
        "    \"2018-1-1\", periods=4, freq=\"M\"))\n",
        "ts"
      ]
    },
    {
      "cell_type": "code",
      "execution_count": null,
      "metadata": {
        "school_cell_uuid": "6bce1f04b30f495f8e90b11739a7f921",
        "id": "d_pVKoZQzgYP",
        "outputId": "1e81cef8-4277-4e40-8068-6234a9b0205c"
      },
      "outputs": [
        {
          "data": {
            "text/plain": [
              "2018-01-31         NaN\n",
              "2018-02-28    1.764052\n",
              "2018-03-31    0.400157\n",
              "2018-04-30    0.978738\n",
              "Freq: M, dtype: float64"
            ]
          },
          "execution_count": 16,
          "metadata": {},
          "output_type": "execute_result"
        }
      ],
      "source": [
        "ts.shift(1)"
      ]
    },
    {
      "cell_type": "code",
      "execution_count": null,
      "metadata": {
        "school_cell_uuid": "9bf7c19b851a44df95d38a9e5180baa5",
        "id": "eBeMwY7PzgYP",
        "outputId": "51a14992-5795-48c9-c294-6f88c074e493"
      },
      "outputs": [
        {
          "data": {
            "text/plain": [
              "2018-01-31    0.400157\n",
              "2018-02-28    0.978738\n",
              "2018-03-31    2.240893\n",
              "2018-04-30         NaN\n",
              "Freq: M, dtype: float64"
            ]
          },
          "execution_count": 17,
          "metadata": {},
          "output_type": "execute_result"
        }
      ],
      "source": [
        "ts.shift(-1)"
      ]
    },
    {
      "cell_type": "code",
      "execution_count": null,
      "metadata": {
        "school_cell_uuid": "bf53db50efff4a0b9ff686300dc6a1c4",
        "id": "dfMhMC8AzgYQ",
        "outputId": "d8d3540e-ed7a-4fec-e2d2-27112a39f3f9"
      },
      "outputs": [
        {
          "data": {
            "text/plain": [
              "2018-02-28    1.764052\n",
              "2018-03-31    0.400157\n",
              "2018-04-30    0.978738\n",
              "2018-05-31    2.240893\n",
              "Freq: M, dtype: float64"
            ]
          },
          "execution_count": 18,
          "metadata": {},
          "output_type": "execute_result"
        }
      ],
      "source": [
        "ts.shift(1, freq=\"M\")"
      ]
    },
    {
      "cell_type": "code",
      "execution_count": null,
      "metadata": {
        "id": "eyo2-stqzgYQ",
        "outputId": "f04f2054-555f-4858-a3b0-a8a274d06a0e"
      },
      "outputs": [
        {
          "data": {
            "text/plain": [
              "2018-02-04    1.764052\n",
              "2018-03-04    0.400157\n",
              "2018-04-01    0.978738\n",
              "2018-05-06    2.240893\n",
              "dtype: float64"
            ]
          },
          "execution_count": 19,
          "metadata": {},
          "output_type": "execute_result"
        }
      ],
      "source": [
        "ts.shift(1, freq=\"W\")"
      ]
    },
    {
      "cell_type": "markdown",
      "metadata": {
        "school_cell_uuid": "770673825a1a40d0b6741808a628edfa",
        "id": "-chmCahdzgYQ"
      },
      "source": [
        "## `resample` 연산"
      ]
    },
    {
      "cell_type": "markdown",
      "metadata": {
        "school_cell_uuid": "1c1b825db0d3484e8f778e5bb2496d10",
        "id": "mkKz6PwXzgYQ"
      },
      "source": [
        "`resample` 연산을 쓰면 시간 간격을 재조정하는 리샘플링(resampling)이 가능하다. 이 때 시간 구간이 작아지면 데이터 양이 증가한다고 해서 업-샘플링(up-sampling)이라 하고 시간 구간이 커지면 데이터 양이 감소한다고 해서 다운-샘플링(down-sampling)이라 부른다."
      ]
    },
    {
      "cell_type": "code",
      "execution_count": null,
      "metadata": {
        "school_cell_uuid": "c0ce7a3b53954f87abbbe4dbd23ffbd2",
        "id": "kSD_UIFpzgYQ",
        "outputId": "60f6f520-c521-4bc4-e1b4-4b4001b05cda"
      },
      "outputs": [
        {
          "data": {
            "text/plain": [
              "2018-03-22    1.488252\n",
              "2018-03-23    1.895889\n",
              "2018-03-24    1.178780\n",
              "2018-03-25   -0.179925\n",
              "2018-03-26   -1.070753\n",
              "2018-03-27    1.054452\n",
              "2018-03-28   -0.403177\n",
              "2018-03-29    1.222445\n",
              "2018-03-30    0.208275\n",
              "2018-03-31    0.976639\n",
              "2018-04-01    0.356366\n",
              "2018-04-02    0.706573\n",
              "2018-04-03    0.010500\n",
              "2018-04-04    1.785870\n",
              "2018-04-05    0.126912\n",
              "2018-04-06    0.401989\n",
              "2018-04-07    1.883151\n",
              "2018-04-08   -1.347759\n",
              "2018-04-09   -1.270485\n",
              "2018-04-10    0.969397\n",
              "Freq: D, dtype: float64"
            ]
          },
          "execution_count": 20,
          "metadata": {},
          "output_type": "execute_result"
        }
      ],
      "source": [
        "ts = pd.Series(np.random.randn(100), index=pd.date_range(\n",
        "    \"2018-1-1\", periods=100, freq=\"D\"))\n",
        "ts.tail(20)"
      ]
    },
    {
      "cell_type": "markdown",
      "metadata": {
        "school_cell_uuid": "76ed6719f0974c1b9c0380feb5bec180",
        "id": "BHhNx5aSzgYQ"
      },
      "source": [
        "다운-샘플링의 경우에는 원래의 데이터가 그룹으로 묶이기 때문에 그룹바이(groupby)때와 같이 그룹 연산을 해서 대표값을 구해야 한다."
      ]
    },
    {
      "cell_type": "code",
      "execution_count": null,
      "metadata": {
        "school_cell_uuid": "293752ebf54641fc831846a7ead19096",
        "id": "lChKeEmPzgYR",
        "outputId": "d3b07b33-8387-4819-f02b-f652b055f52c"
      },
      "outputs": [
        {
          "data": {
            "text/plain": [
              "2018-01-07    0.305776\n",
              "2018-01-14    0.629064\n",
              "2018-01-21   -0.006910\n",
              "2018-01-28    0.277065\n",
              "2018-02-04   -0.144972\n",
              "2018-02-11   -0.496299\n",
              "2018-02-18   -0.474473\n",
              "2018-02-25   -0.201222\n",
              "2018-03-04   -0.775142\n",
              "2018-03-11    0.052868\n",
              "2018-03-18   -0.450379\n",
              "2018-03-25    0.601892\n",
              "2018-04-01    0.334893\n",
              "2018-04-08    0.509605\n",
              "2018-04-15   -0.150544\n",
              "Freq: W-SUN, dtype: float64"
            ]
          },
          "execution_count": 21,
          "metadata": {},
          "output_type": "execute_result"
        }
      ],
      "source": [
        "ts.resample('W').mean()"
      ]
    },
    {
      "cell_type": "code",
      "execution_count": null,
      "metadata": {
        "school_cell_uuid": "d7c9890078004169b34a557164f129f5",
        "id": "JhecNWcqzgYR",
        "outputId": "ced4afe9-4098-403d-c7ee-189992fed8f9"
      },
      "outputs": [
        {
          "data": {
            "text/plain": [
              "2018-01-31    1.867558\n",
              "2018-02-28    0.156349\n",
              "2018-03-31   -1.726283\n",
              "2018-04-30    0.356366\n",
              "Freq: M, dtype: float64"
            ]
          },
          "execution_count": 22,
          "metadata": {},
          "output_type": "execute_result"
        }
      ],
      "source": [
        "ts.resample('M').first()"
      ]
    },
    {
      "cell_type": "markdown",
      "metadata": {
        "school_cell_uuid": "12f3a566eb4c41738797e094843d0f43",
        "id": "uO7paVXpzgYR"
      },
      "source": [
        "날짜가 아닌 시/분 단위에서는 구간위 왼쪽 한계값(가장 빠른 값)은 포함하고 오른쪽 한계값(가장 늦은 값)은 포함하지 않는다. 즉, 가장 늦은 값은 다음 구간에 포함된다. 예를 들어 10분 간격으로 구간을 만들면 10의 배수가 되는 시각은 구간의 시작점이 된다."
      ]
    },
    {
      "cell_type": "code",
      "execution_count": null,
      "metadata": {
        "school_cell_uuid": "be97af4119bd46d69d249294de2dba1c",
        "id": "4Xftdsk4zgYS",
        "outputId": "961532b2-9a26-4ebb-fc44-ec17a2bb9e05"
      },
      "outputs": [
        {
          "data": {
            "text/plain": [
              "2018-01-01 00:00:00   -1.173123\n",
              "2018-01-01 00:01:00    1.943621\n",
              "2018-01-01 00:02:00   -0.413619\n",
              "2018-01-01 00:03:00   -0.747455\n",
              "2018-01-01 00:04:00    1.922942\n",
              "2018-01-01 00:05:00    1.480515\n",
              "2018-01-01 00:06:00    1.867559\n",
              "2018-01-01 00:07:00    0.906045\n",
              "2018-01-01 00:08:00   -0.861226\n",
              "2018-01-01 00:09:00    1.910065\n",
              "2018-01-01 00:10:00   -0.268003\n",
              "2018-01-01 00:11:00    0.802456\n",
              "2018-01-01 00:12:00    0.947252\n",
              "2018-01-01 00:13:00   -0.155010\n",
              "2018-01-01 00:14:00    0.614079\n",
              "2018-01-01 00:15:00    0.922207\n",
              "2018-01-01 00:16:00    0.376426\n",
              "2018-01-01 00:17:00   -1.099401\n",
              "2018-01-01 00:18:00    0.298238\n",
              "2018-01-01 00:19:00    1.326386\n",
              "Freq: T, dtype: float64"
            ]
          },
          "execution_count": 23,
          "metadata": {},
          "output_type": "execute_result"
        }
      ],
      "source": [
        "ts = pd.Series(np.random.randn(60), index=pd.date_range(\n",
        "    \"2018-1-1\", periods=60, freq=\"T\"))\n",
        "ts.head(20)"
      ]
    },
    {
      "cell_type": "code",
      "execution_count": null,
      "metadata": {
        "school_cell_uuid": "9080aeb351774c32923d54a62b0b9340",
        "id": "3yJYFaXRzgYS",
        "outputId": "74422a2d-6253-4e95-942c-aa2fea050874"
      },
      "outputs": [
        {
          "data": {
            "text/plain": [
              "2018-01-01 00:00:00    6.835324\n",
              "2018-01-01 00:10:00    3.764630\n",
              "2018-01-01 00:20:00    0.776495\n",
              "2018-01-01 00:30:00   -0.538336\n",
              "2018-01-01 00:40:00    1.828234\n",
              "2018-01-01 00:50:00    0.167957\n",
              "Freq: 10T, dtype: float64"
            ]
          },
          "execution_count": 24,
          "metadata": {},
          "output_type": "execute_result"
        }
      ],
      "source": [
        "ts.resample('10T').sum()"
      ]
    },
    {
      "cell_type": "markdown",
      "metadata": {
        "school_cell_uuid": "d56640fdc6454a4ab6fc13d6037ef192",
        "id": "-6eCpyFrzgYS"
      },
      "source": [
        "왼쪽이 아니라 오른쪽 한계값을 구간에 포함하려면 `closed=\"right\"` 인수를 사용한다. 이 때는 10의 배수가 되는 시각이 앞 구간에 포함된다."
      ]
    },
    {
      "cell_type": "code",
      "execution_count": null,
      "metadata": {
        "school_cell_uuid": "6b979c1732e947d2a6b4f210a8acd1f7",
        "id": "VtUltJPEzgYS",
        "outputId": "1dc7d40a-26d1-41ae-b158-4dc7ff34f11b"
      },
      "outputs": [
        {
          "data": {
            "text/plain": [
              "2017-12-31 23:50:00   -1.173123\n",
              "2018-01-01 00:00:00    7.740444\n",
              "2018-01-01 00:10:00    3.338065\n",
              "2018-01-01 00:20:00    0.835217\n",
              "2018-01-01 00:30:00    2.480654\n",
              "2018-01-01 00:40:00   -0.653363\n",
              "2018-01-01 00:50:00    0.266409\n",
              "Freq: 10T, dtype: float64"
            ]
          },
          "execution_count": 25,
          "metadata": {},
          "output_type": "execute_result"
        }
      ],
      "source": [
        "ts.resample('10T', closed=\"right\").sum()"
      ]
    },
    {
      "cell_type": "markdown",
      "metadata": {
        "school_cell_uuid": "f941fd4732304035af2977ec9164f5a2",
        "id": "E7rpzDFuzgYT"
      },
      "source": [
        "`ohlc` 메서드는 구간의 시고저종(open, high, low, close)값을 구한다."
      ]
    },
    {
      "cell_type": "code",
      "execution_count": null,
      "metadata": {
        "school_cell_uuid": "07e0baad82574cf98d4c79a68b43e41f",
        "id": "e0c_jEBhzgYT",
        "outputId": "f2e705af-0f63-4cbc-d50d-bba6d12192a1"
      },
      "outputs": [
        {
          "data": {
            "text/html": [
              "<div>\n",
              "<style scoped>\n",
              "    .dataframe tbody tr th:only-of-type {\n",
              "        vertical-align: middle;\n",
              "    }\n",
              "\n",
              "    .dataframe tbody tr th {\n",
              "        vertical-align: top;\n",
              "    }\n",
              "\n",
              "    .dataframe thead th {\n",
              "        text-align: right;\n",
              "    }\n",
              "</style>\n",
              "<table border=\"1\" class=\"dataframe\">\n",
              "  <thead>\n",
              "    <tr style=\"text-align: right;\">\n",
              "      <th></th>\n",
              "      <th>open</th>\n",
              "      <th>high</th>\n",
              "      <th>low</th>\n",
              "      <th>close</th>\n",
              "    </tr>\n",
              "  </thead>\n",
              "  <tbody>\n",
              "    <tr>\n",
              "      <th>2018-01-01 00:00:00</th>\n",
              "      <td>-1.173123</td>\n",
              "      <td>1.943621</td>\n",
              "      <td>-1.173123</td>\n",
              "      <td>1.922942</td>\n",
              "    </tr>\n",
              "    <tr>\n",
              "      <th>2018-01-01 00:05:00</th>\n",
              "      <td>1.480515</td>\n",
              "      <td>1.910065</td>\n",
              "      <td>-0.861226</td>\n",
              "      <td>1.910065</td>\n",
              "    </tr>\n",
              "    <tr>\n",
              "      <th>2018-01-01 00:10:00</th>\n",
              "      <td>-0.268003</td>\n",
              "      <td>0.947252</td>\n",
              "      <td>-0.268003</td>\n",
              "      <td>0.614079</td>\n",
              "    </tr>\n",
              "    <tr>\n",
              "      <th>2018-01-01 00:15:00</th>\n",
              "      <td>0.922207</td>\n",
              "      <td>1.326386</td>\n",
              "      <td>-1.099401</td>\n",
              "      <td>1.326386</td>\n",
              "    </tr>\n",
              "    <tr>\n",
              "      <th>2018-01-01 00:20:00</th>\n",
              "      <td>-0.694568</td>\n",
              "      <td>1.849264</td>\n",
              "      <td>-0.694568</td>\n",
              "      <td>0.672295</td>\n",
              "    </tr>\n",
              "    <tr>\n",
              "      <th>2018-01-01 00:25:00</th>\n",
              "      <td>0.407462</td>\n",
              "      <td>0.539249</td>\n",
              "      <td>-0.769916</td>\n",
              "      <td>0.031831</td>\n",
              "    </tr>\n",
              "    <tr>\n",
              "      <th>2018-01-01 00:30:00</th>\n",
              "      <td>-0.635846</td>\n",
              "      <td>0.676433</td>\n",
              "      <td>-0.635846</td>\n",
              "      <td>0.396007</td>\n",
              "    </tr>\n",
              "    <tr>\n",
              "      <th>2018-01-01 00:35:00</th>\n",
              "      <td>-1.093062</td>\n",
              "      <td>0.635031</td>\n",
              "      <td>-1.491258</td>\n",
              "      <td>0.635031</td>\n",
              "    </tr>\n",
              "    <tr>\n",
              "      <th>2018-01-01 00:40:00</th>\n",
              "      <td>2.383145</td>\n",
              "      <td>2.383145</td>\n",
              "      <td>-1.315907</td>\n",
              "      <td>-1.315907</td>\n",
              "    </tr>\n",
              "    <tr>\n",
              "      <th>2018-01-01 00:45:00</th>\n",
              "      <td>-0.461585</td>\n",
              "      <td>1.713343</td>\n",
              "      <td>-0.826439</td>\n",
              "      <td>-0.826439</td>\n",
              "    </tr>\n",
              "    <tr>\n",
              "      <th>2018-01-01 00:50:00</th>\n",
              "      <td>-0.098453</td>\n",
              "      <td>1.126636</td>\n",
              "      <td>-1.147469</td>\n",
              "      <td>-1.147469</td>\n",
              "    </tr>\n",
              "    <tr>\n",
              "      <th>2018-01-01 00:55:00</th>\n",
              "      <td>-0.437820</td>\n",
              "      <td>1.929532</td>\n",
              "      <td>-0.498032</td>\n",
              "      <td>0.087551</td>\n",
              "    </tr>\n",
              "  </tbody>\n",
              "</table>\n",
              "</div>"
            ],
            "text/plain": [
              "                         open      high       low     close\n",
              "2018-01-01 00:00:00 -1.173123  1.943621 -1.173123  1.922942\n",
              "2018-01-01 00:05:00  1.480515  1.910065 -0.861226  1.910065\n",
              "2018-01-01 00:10:00 -0.268003  0.947252 -0.268003  0.614079\n",
              "2018-01-01 00:15:00  0.922207  1.326386 -1.099401  1.326386\n",
              "2018-01-01 00:20:00 -0.694568  1.849264 -0.694568  0.672295\n",
              "2018-01-01 00:25:00  0.407462  0.539249 -0.769916  0.031831\n",
              "2018-01-01 00:30:00 -0.635846  0.676433 -0.635846  0.396007\n",
              "2018-01-01 00:35:00 -1.093062  0.635031 -1.491258  0.635031\n",
              "2018-01-01 00:40:00  2.383145  2.383145 -1.315907 -1.315907\n",
              "2018-01-01 00:45:00 -0.461585  1.713343 -0.826439 -0.826439\n",
              "2018-01-01 00:50:00 -0.098453  1.126636 -1.147469 -1.147469\n",
              "2018-01-01 00:55:00 -0.437820  1.929532 -0.498032  0.087551"
            ]
          },
          "execution_count": 26,
          "metadata": {},
          "output_type": "execute_result"
        }
      ],
      "source": [
        "ts.resample('5T').ohlc()"
      ]
    },
    {
      "cell_type": "markdown",
      "metadata": {
        "school_cell_uuid": "5b4fb3fee379420e83812348e7d74b14",
        "id": "EO6rllh5zgYT"
      },
      "source": [
        "업-샘플링의 경우에는 실제로 존재하지 않는 데이터를 만들어야 한다. 이 때는 앞에서 나온 데이터를 뒤에서 그대로 쓰는 forward filling 방식과 뒤에서 나올 데이터를 앞에서 미리 쓰는 backward filling 방식을 사용할 수 있다. 각각 `ffill`, `bfill` 메서드를 이용한다."
      ]
    },
    {
      "cell_type": "code",
      "execution_count": null,
      "metadata": {
        "school_cell_uuid": "4e4dfa87aaa84d9fac24a26a07c56c0f",
        "id": "Z9rafEERzgYT",
        "outputId": "dfe8fc0a-cfe9-48c6-f6e7-6555981ccbcb"
      },
      "outputs": [
        {
          "data": {
            "text/plain": [
              "2018-01-01 00:00:00   -1.173123\n",
              "2018-01-01 00:00:30   -1.173123\n",
              "2018-01-01 00:01:00    1.943621\n",
              "2018-01-01 00:01:30    1.943621\n",
              "2018-01-01 00:02:00   -0.413619\n",
              "2018-01-01 00:02:30   -0.413619\n",
              "2018-01-01 00:03:00   -0.747455\n",
              "2018-01-01 00:03:30   -0.747455\n",
              "2018-01-01 00:04:00    1.922942\n",
              "2018-01-01 00:04:30    1.922942\n",
              "2018-01-01 00:05:00    1.480515\n",
              "2018-01-01 00:05:30    1.480515\n",
              "2018-01-01 00:06:00    1.867559\n",
              "2018-01-01 00:06:30    1.867559\n",
              "2018-01-01 00:07:00    0.906045\n",
              "2018-01-01 00:07:30    0.906045\n",
              "2018-01-01 00:08:00   -0.861226\n",
              "2018-01-01 00:08:30   -0.861226\n",
              "2018-01-01 00:09:00    1.910065\n",
              "2018-01-01 00:09:30    1.910065\n",
              "Freq: 30S, dtype: float64"
            ]
          },
          "execution_count": 27,
          "metadata": {},
          "output_type": "execute_result"
        }
      ],
      "source": [
        "ts.resample('30s').ffill().head(20)"
      ]
    },
    {
      "cell_type": "code",
      "execution_count": null,
      "metadata": {
        "school_cell_uuid": "e5d35e6fc62b455a97fc164c48a13489",
        "id": "Nype49AkzgYT",
        "outputId": "dc195b3e-9b37-46ad-b3e3-761058003ae1"
      },
      "outputs": [
        {
          "data": {
            "text/plain": [
              "2018-01-01 00:00:00   -1.173123\n",
              "2018-01-01 00:00:30    1.943621\n",
              "2018-01-01 00:01:00    1.943621\n",
              "2018-01-01 00:01:30   -0.413619\n",
              "2018-01-01 00:02:00   -0.413619\n",
              "2018-01-01 00:02:30   -0.747455\n",
              "2018-01-01 00:03:00   -0.747455\n",
              "2018-01-01 00:03:30    1.922942\n",
              "2018-01-01 00:04:00    1.922942\n",
              "2018-01-01 00:04:30    1.480515\n",
              "2018-01-01 00:05:00    1.480515\n",
              "2018-01-01 00:05:30    1.867559\n",
              "2018-01-01 00:06:00    1.867559\n",
              "2018-01-01 00:06:30    0.906045\n",
              "2018-01-01 00:07:00    0.906045\n",
              "2018-01-01 00:07:30   -0.861226\n",
              "2018-01-01 00:08:00   -0.861226\n",
              "2018-01-01 00:08:30    1.910065\n",
              "2018-01-01 00:09:00    1.910065\n",
              "2018-01-01 00:09:30   -0.268003\n",
              "Freq: 30S, dtype: float64"
            ]
          },
          "execution_count": 28,
          "metadata": {},
          "output_type": "execute_result"
        }
      ],
      "source": [
        "ts.resample('30s').bfill().head(20)"
      ]
    },
    {
      "cell_type": "markdown",
      "metadata": {
        "id": "8ue4YsogzgYU"
      },
      "source": [
        "## `dt` 접근자"
      ]
    },
    {
      "cell_type": "markdown",
      "metadata": {
        "id": "TQjBKFpgzgYU"
      },
      "source": [
        "datetime 자료형 시리즈에는 dt 접근자가 있어 datetime 자료형이 가진 몇가지 유용한 속성과 메서드를 사용할 수 있다."
      ]
    },
    {
      "cell_type": "code",
      "execution_count": null,
      "metadata": {
        "id": "5CmVX783zgYU",
        "outputId": "f2c9cea4-799f-48e5-a021-982802e85b64"
      },
      "outputs": [
        {
          "data": {
            "text/plain": [
              "0    2020-12-25\n",
              "1    2020-12-26\n",
              "2    2020-12-27\n",
              "3    2020-12-28\n",
              "4    2020-12-29\n",
              "        ...    \n",
              "95   2021-03-30\n",
              "96   2021-03-31\n",
              "97   2021-04-01\n",
              "98   2021-04-02\n",
              "99   2021-04-03\n",
              "Length: 100, dtype: datetime64[ns]"
            ]
          },
          "execution_count": 29,
          "metadata": {},
          "output_type": "execute_result"
        }
      ],
      "source": [
        "s = pd.Series(pd.date_range(\"2020-12-25\", periods=100, freq=\"D\"))\n",
        "s"
      ]
    },
    {
      "cell_type": "markdown",
      "metadata": {
        "id": "Bu_7E-OyzgYU"
      },
      "source": [
        "예를 들어 `year`, `month`, `day`, `weekday` 등의 속성을 이용하면 년, 월, 일, 요일 정보를 빼낼 수 있다."
      ]
    },
    {
      "cell_type": "code",
      "execution_count": null,
      "metadata": {
        "id": "YcVml177zgYV",
        "outputId": "b1e44a4f-1344-4321-f7ed-5fa807c6f770"
      },
      "outputs": [
        {
          "data": {
            "text/plain": [
              "0     2020\n",
              "1     2020\n",
              "2     2020\n",
              "3     2020\n",
              "4     2020\n",
              "      ... \n",
              "95    2021\n",
              "96    2021\n",
              "97    2021\n",
              "98    2021\n",
              "99    2021\n",
              "Length: 100, dtype: int64"
            ]
          },
          "execution_count": 30,
          "metadata": {},
          "output_type": "execute_result"
        }
      ],
      "source": [
        "s.dt.year"
      ]
    },
    {
      "cell_type": "code",
      "execution_count": null,
      "metadata": {
        "id": "xAGXHFjTzgYV",
        "outputId": "3b9074b6-0d5d-4ddb-ff79-03bc97c486c8"
      },
      "outputs": [
        {
          "data": {
            "text/plain": [
              "0     4\n",
              "1     5\n",
              "2     6\n",
              "3     0\n",
              "4     1\n",
              "     ..\n",
              "95    1\n",
              "96    2\n",
              "97    3\n",
              "98    4\n",
              "99    5\n",
              "Length: 100, dtype: int64"
            ]
          },
          "execution_count": 31,
          "metadata": {},
          "output_type": "execute_result"
        }
      ],
      "source": [
        "s.dt.weekday"
      ]
    },
    {
      "cell_type": "markdown",
      "metadata": {
        "id": "PKsSrvmhzgYV"
      },
      "source": [
        "`strftime` 메서드를 이용하여 문자열을 만드는 것도 가능하다."
      ]
    },
    {
      "cell_type": "code",
      "execution_count": null,
      "metadata": {
        "id": "9-W9uQR0zgYV",
        "outputId": "2d9e5f44-4dd4-426e-85db-de8013d40e1f"
      },
      "outputs": [
        {
          "data": {
            "text/plain": [
              "0     2020년 12월 25일\n",
              "1     2020년 12월 26일\n",
              "2     2020년 12월 27일\n",
              "3     2020년 12월 28일\n",
              "4     2020년 12월 29일\n",
              "          ...      \n",
              "95    2021년 03월 30일\n",
              "96    2021년 03월 31일\n",
              "97    2021년 04월 01일\n",
              "98    2021년 04월 02일\n",
              "99    2021년 04월 03일\n",
              "Length: 100, dtype: object"
            ]
          },
          "execution_count": 32,
          "metadata": {},
          "output_type": "execute_result"
        }
      ],
      "source": [
        "s.dt.strftime(\"%Y년 %m월 %d일\")"
      ]
    },
    {
      "cell_type": "markdown",
      "metadata": {
        "id": "WnixfzTyzgYW"
      },
      "source": [
        "````{admonition} 연습 문제 4.8.1\n",
        "\n",
        "다음 명령으로 만들어진 데이터프레임에 대해 월별 value의 합계를 구하라.\n",
        "(힌트: `groupby` 메서드와 `dt` 접근자를 사용하라)\n",
        "\n",
        "```\n",
        "np.random.seed(0)\n",
        "df = pd.DataFrame({\n",
        "    \"date\": pd.date_range(\"2020-12-25\", periods=100, freq=\"D\"),\n",
        "    \"value\": np.random.randint(100, size=(100,))\n",
        "})\n",
        "```\n",
        "````"
      ]
    },
    {
      "cell_type": "code",
      "execution_count": null,
      "metadata": {
        "id": "h8Su5PA9zgYW"
      },
      "outputs": [],
      "source": []
    }
  ],
  "metadata": {
    "kernelspec": {
      "display_name": "Python 3",
      "language": "python",
      "name": "python3"
    },
    "language_info": {
      "codemirror_mode": {
        "name": "ipython",
        "version": 3
      },
      "file_extension": ".py",
      "mimetype": "text/x-python",
      "name": "python",
      "nbconvert_exporter": "python",
      "pygments_lexer": "ipython3",
      "version": "3.7.6"
    },
    "latex_envs": {
      "LaTeX_envs_menu_present": true,
      "autoclose": false,
      "autocomplete": true,
      "bibliofile": "biblio.bib",
      "cite_by": "apalike",
      "current_citInitial": 1,
      "eqLabelWithNumbers": true,
      "eqNumInitial": 1,
      "hotkeys": {
        "equation": "Ctrl-E",
        "itemize": "Ctrl-I"
      },
      "labels_anchors": false,
      "latex_user_defs": false,
      "report_style_numbering": false,
      "user_envs_cfg": false
    },
    "colab": {
      "provenance": [],
      "include_colab_link": true
    }
  },
  "nbformat": 4,
  "nbformat_minor": 0
}